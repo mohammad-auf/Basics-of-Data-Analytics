{
  "cells": [
    {
      "cell_type": "markdown",
      "metadata": {
        "id": "oSboKVN7G_wz"
      },
      "source": [
        "\n",
        "Q.1)Define the role of a Data Analyst in your own words. What value do they bring to an organization?\n",
        "\n",
        "Answer: A Data Analyst is a specialist that helps people make decisions by translating raw data into something they can understand.\n",
        "\n",
        " They clean up enormous, messy, and sometimes hard-to-understand datasets.  After that, they hunt for hidden patterns or trends and \"translate\" what they find into a tale that is easy to follow.  Most of the time, people present this tale with charts, dashboards, and reports.\n",
        "\n",
        " What makes them valuable is that they make a business clearer and more efficient.  A Data Analyst helps a corporation make decisions based on facts instead of \"gut feelings.\"  This lets the business:\n",
        "\n",
        " Stop throwing away money by finding out which marketing strategies aren't working.\n",
        "\n",
        " Find new opportunities by determining out which categories of clients bring in the most money for you.\n",
        "\n",
        " To help a company work better, look for places where things get stuck.\n",
        "\n",
        "\n"
      ]
    },
    {
      "cell_type": "markdown",
      "metadata": {
        "id": "_c42NljcNvC0"
      },
      "source": [
        "Q.2) : List three tools commonly used by Data Analysts and explain what each is mainly used for.\n",
        "\n",
        "Answer:\n",
        "\n",
        "Three Tools That Data Analysts Use a Lot:\n",
        "\n",
        " SQL (Structured Query Language)\n",
        "\n",
        " SQL is the language you use to talk to a database or \"ask questions.\"  Analysts use it to acquire the exact data they need, like \"Show me all sales from the last 30 days in the 'Electronics' category,\" and to execute basic aggregations like counting, summing, or average right in the database.\n",
        "\n",
        " Microsoft Power BI or Tableau:\n",
        "\n",
        " The main thing you can do with it is generate dashboards and graphs out of data.  These tools take data from SQL or Excel and make it into interactive maps, graphs, charts, and dashboards.  The major goal is to make the analytical results seem beautiful and be straightforward for non-technical individuals, such managers and executives, to understand right away.\n",
        "\n",
        " Microsoft's Excel:\n",
        "\n",
        " Excel is used by analysts  It's not good for enormous datasets, but it's wonderful for quick computations, cleaning up and formatting smaller datasets, and doing exploratory research.  Its Pivot Tables function is great for quickly summarizing data and looking at it from numerous angles.\n"
      ]
    },
    {
      "cell_type": "markdown",
      "metadata": {
        "id": "Cf-qXl7xQG17"
      },
      "source": [
        "Q.3) Write the end-to-end analytics workflow in the correct order and briefly explain each step.\n",
        "\n",
        "Answer:\n",
        "\n",
        "\n",
        " The End-to-End Analytics Workflow: How to Figure Out What the Problem Is (Business Understanding) The most crucial thing to do.  The analyst needs to know what business question they are seeking to solve before they look at any data.  For instance, \"Why are more customers leaving in the West?\"\n",
        "\n",
        " Data Collection: The analyst gathers all the raw data they need from a variety of sources, such as company databases (using SQL), web APIs, and static files like CSVs or Excel sheets.\n",
        "\n",
        " Data cleansing, which is often termed data preparation or wrangling, is usually the stage that takes the most time.  Cleaning up the raw data makes it right and useful.  This entails correcting errors, removing duplication, and making sure that all the formats are the same.\n",
        "\n",
        " Data Analysis (Exploratory Data Analysis - EDA): In this step, the analyst employs statistical tools and methodologies to \"explore\" the clean data and find patterns, correlations, and outliers.  This is where the important points are.\n",
        "\n",
        " Reporting and Data Visualization: The analyst uses charts and dashboards to make their results into a tale that is easy to understand.  This report is sent to stakeholders so they can clearly see what the \"answer\" to the first business question is.\n",
        "\n",
        " The last step is for the firm to use the information to make choices and follow through on them.  The analyst's analysis helps the company make a strategic decision, such as \"Let's start an email campaign to get users who haven't been active in 60 days to come back.\"\n"
      ]
    },
    {
      "cell_type": "markdown",
      "metadata": {
        "id": "I65nIjxxSxT9"
      },
      "source": [
        "Q.4) What is Prompt Engineering, and explain any two types of prompts used in Generative AI?\n",
        "\n",
        "Answer:\n",
        "\n",
        "Prompt Engineering is the careful planning and improvement of the input (the \"prompt\") given to a Generative AI model (such a Large Language Model) so that it gives the most accurate, relevant, and helpful output.  You need to know how to ask the appropriate question in the right way to get the AI to give you the response you want.  There are two types of prompts:  When you use zero-shot prompting, you tell the model to do something without showing it how to do it first.  You rely entirely on the model's enormous prior knowledge.  \"Give me three bullet points that sum up this article.\"  Few-Shot Prompting:  You provide the model a few samples of the work you want it to execute at this point.  This \"primes\" the model so it knows what kind of format or pattern you want it to follow."
      ]
    },
    {
      "cell_type": "markdown",
      "metadata": {
        "id": "7bfNoh-6S9OE"
      },
      "source": [
        "Q.5) What are the key differences between a Business Analyst and a Data Analyst in terms of roles,\n",
        "responsibilities, and focus?\n",
        "\n",
        "The fundamental distinction between a Business Analyst (BA) and a Data Analyst (DA) is what they want to do and what they look at.  The main duty of a Business Analyst is to find ways to fix problems in a company by looking at business processes, stakeholder needs, and coming up with solutions.  Their duty is to link business demands with technical teams, turn corporate goals into functional specifications, and plan out how things will work.  They often ponder about what needs to be constructed or improved in the future.  A Data Analyst, on the other hand, solely cares about the numbers.  Their major duty is to gather, clean, analyze, and visualize massive datasets so they can answer particular queries and locate new information.  They frequently undertake historical or diagnostic work, which means they look at patterns and trends to figure out what happened and why.  A business analyst (BA) finds out what the problem is and how to fix it. A data analyst (DA) looks at data to help with that fix and see how well it works.\n"
      ]
    },
    {
      "cell_type": "markdown",
      "metadata": {
        "id": "-xD0jaKGTiiZ"
      },
      "source": [
        "Q.6) Explain any three AI-powered ETL (Extract, Transform, Load) tools and how they are used in analytics.\n",
        "\n",
        "Answer:\n",
        "ETL stands for Extract (receiving data from a source), Transform (cleaning and modifying it), and Load (placing it into a place where it can be used, like a data warehouse).  AI-powered tools make this process easier and \"smarter,\" notably the difficult \"Transform\" stage.\n",
        "\n",
        " Informatica's CLAIRE Engine:\n",
        "\n",
        " Informatica's AI engine is called CLAIRE, and this is how it works.  CLAIRE automatically scans and profiles data as it comes in (Extract).  It employs machine learning to figure out what the data signifies, like \"This column is a customer's full name\" or \"This one is a US zip code.\"  Then it makes suggestions, like splitting the name into \"First Name\" and \"Last Name,\" which makes the monotonous job of mapping data easier.\n",
        "\n",
        " Databricks (Lakehouse Platform):\n",
        "\n",
        " During the ETL process, Databricks employs AI to make sure the data is good.  It can automatically discover errors, such a sales column with a value that shouldn't be there, and either let admins know or stop the improper data from getting into the final warehouse.  This makes ensuring that the data analysts are using is correct.\n",
        "\n",
        " Matillion is an ETL solution that runs in the cloud and employs AI to help developers.  As an analyst designs a data transformation pipeline, Matillion's AI proposes the next logical steps or changes to make.  It can also turn natural language prompts into SQL code, which speeds up development."
      ]
    },
    {
      "cell_type": "markdown",
      "metadata": {
        "id": "gvZAaL9KUTtt"
      },
      "source": [
        "Q.7) Give three applications of Data Analytics across different industries and explain how it creates value.\n",
        "\n",
        "Answer:\n",
        "\n",
        "Three Ways to Use Data Analytics in Retail and E-Commerce:\n",
        "\n",
        " Analysis of the Market Basket.  This is how you may figure out which goods a person buys together most often by looking at their transaction history.\n",
        "\n",
        " It is what makes Amazon's \"Customers who bought this also bought...\" feature work.  This boosts the average order value by suggesting products that are relevant, which means that each consumer spends more money.\n",
        "\n",
        " Health care:\n",
        "\n",
        " Use predictive analytics to figure out how likely patients are to go back to the hospital.  Hospitals use patient data including demographics, diagnoses, length of stay, and test results to develop a model that can determine which patients are most likely to need to go back to the hospital within 30 days after being discharged.\n",
        "\n",
        " Before they leave, hospitals can give extra care to patients who are at high risk.  This helps patients get healthy and saves the hospital money by keeping them from having to pay big fines for having a lot of readmissions.\n",
        "\n",
        " Finance and Banking:\n",
        "\n",
        " Finding fraud as it happens.  Analytics models watch consumer transactions as they happen and compare them to the customer's normal spending habits (time, place, and amount).\n",
        "\n",
        " If a transaction that is highly unusual suddenly pops up, the system can promptly flag or block it and let the consumer know.  This stops fraud, which saves the bank and the customer millions of dollars.\n",
        "\n"
      ]
    },
    {
      "cell_type": "markdown",
      "metadata": {
        "id": "svUrYIuaUxgB"
      },
      "source": [
        "Q.8) Explain the evolution of analytics, highlighting the different stages from Descriptive to Generative AI\n",
        "\n",
        "Answer:\n",
        "\n",
        "\n",
        " Analytics has shifted from only looking at the past to actively making the future.  Each level builds on the one before it, making it more complex and useful.\n",
        "\n",
        " Descriptive Analytics:\n",
        "\n",
        " The question is, \"What happened?\"\n",
        "\n",
        " This is the simplest kind of analytics.  It implies piecing together old data to gain a better idea of what happened in the past, like a report on sales from the last week.\n",
        "\n",
        " Analytic Diagnostics:\n",
        "\n",
        " The Question: \"What happened?\"\n",
        "\n",
        " What it is: This is the \"drill-down\" phase.  It looks into the descriptive report to find out what caused the outcome.  For instance, revenues went down because a marketing campaign didn't work.\n",
        "\n",
        " Analytics that can help you guess what will happen:\n",
        "\n",
        " The question is: \"What will happen?\"\n",
        "\n",
        " What it is: This employs machine learning and statistical models to look at historical data and guess what will happen in the future, like sales for the following quarter.\n",
        "\n",
        " Analytics that inform you what to do:\n",
        "\n",
        " The Question: \"What should we do?\"\n",
        "\n",
        " This is the most advanced kind of classical analytics.  It not only informs you what will happen in the future, but it also advises you what to do to attain a goal. For example, \"To keep these 500 customers from leaving, give them a 20% discount.\"\n",
        "\n",
        " AI that builds things:\n",
        "\n",
        " The Question: \"What can we build?\"\n",
        "\n",
        " What it is: This is the most recent thing.  Generative AI doesn't simply look at old data; it also creates new things like code, language, graphics, or fake data.  It may automate hard analytics processes, such as turning a dashboard into a full business report in clear language."
      ]
    }
  ],
  "metadata": {
    "colab": {
      "provenance": []
    },
    "kernelspec": {
      "display_name": "Python 3",
      "name": "python3"
    },
    "language_info": {
      "name": "python"
    }
  },
  "nbformat": 4,
  "nbformat_minor": 0
}
